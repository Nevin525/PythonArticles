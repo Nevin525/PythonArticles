{
 "cells": [
  {
   "cell_type": "markdown",
   "id": "931c0c66-61af-4790-ab8a-db0757ec94bc",
   "metadata": {
    "tags": []
   },
   "source": [
    "# <span style=\"color:#9A50F8\">**Python File & Data Processing**</span>\n",
    "***"
   ]
  },
  {
   "cell_type": "markdown",
   "id": "caa58146-27cd-42b3-a9f2-ce2cef489504",
   "metadata": {},
   "source": [
    "Using Python, we can easily perform operations on even the largest of files. From searching for duplicate lines in a file to extracting data from columns in a CSV, Python makes it all possible. Here, we will learn how to work with files in Python using an example- getting the lowest, highest, and average price of SAG stock over a 90-day period.\n",
    "\n",
    "I have downloaded the data from here: https://www.barchart.com/stocks/quotes/STWRY/price-history/historical and removed the first and last two lines (header line, tag line, and an empty line). You can find this file attached to the repository here: https://github.com/Nevin525/PythonArticles/blob/main/SAG-Price-12.17.21-6.9.22.csv & install \"Python 3.8\" (or another version) from Company Portal to follow along!"
   ]
  },
  {
   "cell_type": "markdown",
   "id": "5f57be72",
   "metadata": {},
   "source": [
    "***\n",
    "Before we start any processing on our CSV file, we must load the file into Python. This can be accomplished by the following line:"
   ]
  },
  {
   "cell_type": "code",
   "execution_count": 5,
   "id": "62dd4149-9476-49ed-9bcb-2c3b09894057",
   "metadata": {},
   "outputs": [],
   "source": [
    "file = open(r\"C:\\Users\\nmas\\Documents\\Python Workspace\\SAG-Price-12.17.21-6.9.22.csv\", \"r\")"
   ]
  },
  {
   "cell_type": "markdown",
   "id": "70a068bd-9039-4a09-bab5-0bea8cfa2239",
   "metadata": {},
   "source": [
    "This tells Python a few things:\n",
    "* `'file'` the *variable* name we can use to access this file in further lines\n",
    "* `open` the file for a connection\n",
    "* The path to that file in quotes\n",
    "    * The `r` in front of the file path essentially makes the string a file path (for more info search: raw strings in Python)\n",
    "* The mode for accessing that file- in this case `\"r\"` for 'read'\n",
    "    * There are other access modes depending on how you would like to work with files in Python including: `\"a\"` for appending, `\"w\"` for writing, and `\"w+\"` for reading + writing. **Note:** `\"w+\"` has the side effect of clearing the file or creating it if it does not exist- very helpful\n",
    "    \n",
    "Now that we have the file loaded, we must read each line and track our data points. *Remember: even though we can quickly look at a file and start to look at it wholly; this is not the case for Python. The computer must read the file line by line in a procedural fashion.* The code below accomplishes this (check out the comments on the lines starting with **#** that help to explain what each line of code is doing):"
   ]
  },
  {
   "cell_type": "code",
   "execution_count": 6,
   "id": "c7ea8d9d-d861-4d4f-910e-14aa81971eb4",
   "metadata": {},
   "outputs": [
    {
     "name": "stdout",
     "output_type": "stream",
     "text": [
      "Lowest Price: 7.21\n",
      "Highest Price: 9.987\n",
      "Average Price: 8.754109375000002\n"
     ]
    }
   ],
   "source": [
    "# Set our inital data points to some values, we will use these as placeholders for our final data values\n",
    "lowest_price = None\n",
    "highest_price = None\n",
    "close_sum = 0\n",
    "close_count = 0\n",
    "\n",
    "# Loop through every line in the file and further reference it as 'line' in the code.\n",
    "# Essentially: 'For' every line in the previously loaded file, do the following code lines which are indented\n",
    "for line in file:\n",
    "    # Break the 'line' by commas (CSV: comma-seperated values) into data points on the left, which can be used for analysis\n",
    "    # \n",
    "    # Example:  \"06/09/2022,8.655\".split(\",\") breaks into: [\"06/09/2022\", \"8.655\"] \n",
    "    # Which can be put into two variables for usage: date, price\n",
    "    date, price, high, low, close, change, percent_change, volume = line.split(\",\")\n",
    "    \n",
    "    # We must check if there is any number currently set for the variable 'lowest_price'\n",
    "    # by checking if it is set to the intial value 'None' as on line 2. \n",
    "    # If no numbers have been assigned (value of None), then we can assign this value to be the 'lowest_price' as of yet\n",
    "    # \n",
    "    # Otherwise if we have a 'lowest_price' already set, we must compare it to the\n",
    "    # current 'low' price for the day from this 'line' in the CSV file\n",
    "    # \n",
    "    # We must also convert the String of characters into a number using the 'float()' operation \n",
    "    # This is so Python sees this as a number and not just a String of text. \n",
    "    # This is exactly like changing a cell type in Excel to Number\n",
    "    if lowest_price is None or float(low) < lowest_price:\n",
    "        # If the code gets here, one of the the above conditions was evaluated to be True\n",
    "        # Then, 'lowest_price' is set to the current 'low' value being looked at \n",
    "        lowest_price = float(low)\n",
    "    \n",
    "    # Same deal for the high price- but checking if it is 'None' OR greater than the current value set for 'highest_price'\n",
    "    if highest_price is None or float(high) > highest_price:\n",
    "        highest_price = float(high)\n",
    "    \n",
    "    # We must also store a running total for the closing price each day, called 'close_sum',\n",
    "    # to calculate the average price of SAG stock over the period. \n",
    "    # We do this by using '+=' which adds the value of 'close' onto the currently set value of 'close_sum'\n",
    "    # \n",
    "    # Note: we are still indented on the 'for' each 'line' from line 9\n",
    "    close_sum += float(close)\n",
    "    # We must also keep count of how many data points we have added into 'close_sum' for\n",
    "    # calculating the average. We will call this 'close_count' and add one to the current value\n",
    "    close_count += 1\n",
    "    \n",
    "# Finally, outside the 'for' each line loop: we calculate the 'average' stock price over the period \n",
    "average = close_sum / close_count\n",
    "        \n",
    "# Finally, we must close the file so Python doesn't keep it open       \n",
    "file.close()\n",
    "\n",
    "# And print the results out so we can see them here\n",
    "print(\"Lowest Price:\", lowest_price)\n",
    "print(\"Highest Price:\", highest_price)\n",
    "print(\"Average Price:\", average)"
   ]
  },
  {
   "cell_type": "markdown",
   "id": "1f9d5537-7e1c-4e05-81be-ec0c1381d188",
   "metadata": {},
   "source": [
    "First, we set our data points `lowest_price`, `highest`, `close_sum`, `close_count` to intial values of `None` or `0`. Then, `for` every `line` of the `file`: split the `line` by the character: `\",\"` and assign each of the split elements to their respective data point names: `date, price, high, low, close, change, percent_change, volume`. \n",
    "\n",
    "Then, we check if any value is set yet for the `lowest_price` by checking if it is equal to `None` OR if the value from the current line is less than the current value in `lowest_price`. Then, we set the value of `lowest_price` equal to this current line's data point if any of the previous statements are True. We must convert the read-in text to a number using the `float()` operation as the computer only sees text and not a number (similar to a number cell not being marked as a number cell in excel). Then, the same checks happen for `highest_price` except checking if every data point is greater than the last. \n",
    "\n",
    "Next, for tracking the average price, we must add the closing price to the running total `close_sum` by using `+=` which increments the current value by the number on the right-hand side. We also add 1 to the `close_count`, which tracks how many lines or data points we have added to `close_sum` so we can use this in the average formula once we are done looping through every line in the file. \n",
    "\n",
    "After each line of the file has been looped through, indicated by the non-tabbed lines starting on line 45, we calculate the `average` stock price. After, the file is closed to prevent further usage and preserve computer resources. Finally, the data points we created are printed out to the screen using `print()` and passing the calculated values!  "
   ]
  },
  {
   "cell_type": "markdown",
   "id": "31b481aa-7ffa-4201-aa06-8f2d89236a99",
   "metadata": {},
   "source": [
    "***\n",
    "Python is highly extensible with a multitude of libraries or addons managed by developers around the world. This enables quick access to functionalities such as retrieving weather or traffic information, moving your computer's mouse + typing, and machine learning + artificial intelligence. Please do reach out to me if you have any comments or questions & thank you for reading! Nevin.Mascarenhas@softwareag.com"
   ]
  }
 ],
 "metadata": {
  "kernelspec": {
   "display_name": "Python 3 (ipykernel)",
   "language": "python",
   "name": "python3"
  },
  "language_info": {
   "codemirror_mode": {
    "name": "ipython",
    "version": 3
   },
   "file_extension": ".py",
   "mimetype": "text/x-python",
   "name": "python",
   "nbconvert_exporter": "python",
   "pygments_lexer": "ipython3",
   "version": "3.9.7"
  }
 },
 "nbformat": 4,
 "nbformat_minor": 5
}
